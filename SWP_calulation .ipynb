{
 "cells": [
  {
   "cell_type": "code",
   "execution_count": 1,
   "id": "88b9325b-7452-4d81-a567-d731cbd7dd1d",
   "metadata": {},
   "outputs": [],
   "source": [
    "def swp_calculator(initial_investment, monthly_withdrawal, annual_interest_rate, months):\n",
    "    remaining_balance = initial_investment\n",
    "    monthly_interest_rate = annual_interest_rate / 12 / 100\n",
    "    balance_history = []\n",
    "\n",
    "    for month in range(1, months + 1):\n",
    "        remaining_balance = remaining_balance * (1 + monthly_interest_rate) - monthly_withdrawal\n",
    "        balance_history.append((month, remaining_balance))\n",
    "\n",
    "        if remaining_balance < 0:\n",
    "            print(f\"Balance depleted in month {month}\")\n",
    "            break\n",
    "\n",
    "    return balance_history\n"
   ]
  },
  {
   "cell_type": "code",
   "execution_count": 3,
   "id": "09d9e3c6-5687-45e7-8343-ab264df3975e",
   "metadata": {},
   "outputs": [],
   "source": [
    "def main():\n",
    "    # Get user inputs\n",
    "    initial_investment = float(input(\"Enter the initial investment amount: \"))\n",
    "    monthly_withdrawal = float(input(\"Enter the monthly withdrawal amount: \"))\n",
    "    annual_interest_rate = float(input(\"Enter the annual interest rate (in %): \"))\n",
    "    months = int(input(\"Enter the number of months: \"))\n",
    "\n",
    "    # Calculate SWP\n",
    "    balance_history = swp_calculator(initial_investment, monthly_withdrawal, annual_interest_rate, months)\n",
    "\n",
    "    # Print results\n",
    "    print(\"\\nMonth\\tRemaining Balance\")\n",
    "    for month, balance in balance_history:\n",
    "        print(f\"{month}\\t{balance:.2f}\")\n"
   ]
  },
  {
   "cell_type": "code",
   "execution_count": 4,
   "id": "fb29386e-adc5-4922-b0db-08196b9e1cc1",
   "metadata": {},
   "outputs": [
    {
     "name": "stdin",
     "output_type": "stream",
     "text": [
      "Enter the initial investment amount:  100000\n",
      "Enter the monthly withdrawal amount:  5000\n",
      "Enter the annual interest rate (in %):  7\n",
      "Enter the number of months:  30\n"
     ]
    },
    {
     "name": "stdout",
     "output_type": "stream",
     "text": [
      "Balance depleted in month 22\n",
      "\n",
      "Month\tRemaining Balance\n",
      "1\t95583.33\n",
      "2\t91140.90\n",
      "3\t86672.56\n",
      "4\t82178.15\n",
      "5\t77657.52\n",
      "6\t73110.52\n",
      "7\t68537.00\n",
      "8\t63936.80\n",
      "9\t59309.76\n",
      "10\t54655.74\n",
      "11\t49974.56\n",
      "12\t45266.08\n",
      "13\t40530.13\n",
      "14\t35766.56\n",
      "15\t30975.20\n",
      "16\t26155.89\n",
      "17\t21308.46\n",
      "18\t16432.76\n",
      "19\t11528.62\n",
      "20\t6595.87\n",
      "21\t1634.35\n",
      "22\t-3356.12\n"
     ]
    }
   ],
   "source": [
    "main()\n"
   ]
  },
  {
   "cell_type": "code",
   "execution_count": null,
   "id": "0ba711ab-2763-4130-85f8-582622f3ea59",
   "metadata": {},
   "outputs": [],
   "source": []
  }
 ],
 "metadata": {
  "kernelspec": {
   "display_name": "Python 3 (ipykernel)",
   "language": "python",
   "name": "python3"
  },
  "language_info": {
   "codemirror_mode": {
    "name": "ipython",
    "version": 3
   },
   "file_extension": ".py",
   "mimetype": "text/x-python",
   "name": "python",
   "nbconvert_exporter": "python",
   "pygments_lexer": "ipython3",
   "version": "3.11.7"
  }
 },
 "nbformat": 4,
 "nbformat_minor": 5
}
